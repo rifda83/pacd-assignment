{
  "nbformat": 4,
  "nbformat_minor": 0,
  "metadata": {
    "colab": {
      "provenance": []
    },
    "kernelspec": {
      "name": "python3",
      "display_name": "Python 3"
    },
    "language_info": {
      "name": "python"
    }
  },
  "cells": [
    {
      "cell_type": "markdown",
      "source": [
        "Using Google Colab, please try to a program for following tasks:\n",
        "\n",
        "* Down sampling (Max, Median, Mean)\n",
        "* Up Sampling (Nearest Neighbor, Bilinear, Bicubic)\n",
        "\n",
        "Create your notebook with name as \"PCD_Assignment01\", and upload to your github project. You need to provide your Github Project link to the text editor in submission form."
      ],
      "metadata": {
        "id": "JJE7FjT_nhOy"
      }
    },
    {
      "cell_type": "code",
      "execution_count": 2,
      "metadata": {
        "id": "BBFytQef55c0"
      },
      "outputs": [],
      "source": [
        "import numpy as np\n",
        "import cv2"
      ]
    },
    {
      "cell_type": "markdown",
      "source": [
        "# DownSampling (Max, Median, Mean)"
      ],
      "metadata": {
        "id": "bJksuB4wFyca"
      }
    },
    {
      "cell_type": "code",
      "source": [
        "def downsampling(img, target_shape, method):\n",
        "    h, w = img.shape\n",
        "    target_h, target_w = target_shape\n",
        "\n",
        "    if h % target_h == 0 and w % target_w == 0:\n",
        "        block_h = h // target_h\n",
        "        block_w = w // target_w\n",
        "        out = np.zeros((target_h, target_w), dtype=float)\n",
        "\n",
        "        for i in range(target_h):\n",
        "            for j in range(target_w):\n",
        "                block = img[i*block_h:(i+1)*block_h, j*block_w:(j+1)*block_w]\n",
        "\n",
        "                if method == \"mean\":\n",
        "                    out[i, j] = np.mean(block)\n",
        "                elif method == \"median\":\n",
        "                    out[i, j] = np.median(block)\n",
        "                elif method == \"max\":\n",
        "                    out[i, j] = np.max(block)\n",
        "        return out\n",
        "    else:\n",
        "      # if the blocks are not visible (not easy to block)\n",
        "        resized = cv2.resize(img.astype(np.float32), (target_w, target_h), interpolation=cv2.INTER_AREA)\n",
        "        return resized"
      ],
      "metadata": {
        "id": "eyxN-9ru6XNh"
      },
      "execution_count": 4,
      "outputs": []
    },
    {
      "cell_type": "code",
      "source": [
        "img = np.array([\n",
        "    [1, 2, 3, 4],\n",
        "    [5, 6, 7, 8],\n",
        "    [9,10,11,12],\n",
        "    [13,14,15,16]\n",
        "])\n",
        "\n",
        "print(downsampling(img, (2,2), \"mean\"))\n",
        "print(downsampling(img, (3,3), \"mean\"))\n",
        "print(downsampling(img, (2,2), \"max\"))\n",
        "print(downsampling(img, (3,3), \"max\"))"
      ],
      "metadata": {
        "colab": {
          "base_uri": "https://localhost:8080/"
        },
        "id": "9iCl2DwlFT27",
        "outputId": "17723f53-aa6c-41ea-8d66-b8c9c361296c"
      },
      "execution_count": 6,
      "outputs": [
        {
          "output_type": "stream",
          "name": "stdout",
          "text": [
            "[[ 3.5  5.5]\n",
            " [11.5 13.5]]\n",
            "[[ 2.25  3.5   4.75]\n",
            " [ 7.25  8.5   9.75]\n",
            " [12.25 13.5  14.75]]\n",
            "[[ 6.  8.]\n",
            " [14. 16.]]\n",
            "[[ 2.25  3.5   4.75]\n",
            " [ 7.25  8.5   9.75]\n",
            " [12.25 13.5  14.75]]\n"
          ]
        }
      ]
    },
    {
      "cell_type": "markdown",
      "source": [
        "#Up Sampling (NN, BL, BC)"
      ],
      "metadata": {
        "id": "55pz7q5JF6WE"
      }
    },
    {
      "cell_type": "markdown",
      "source": [
        "## Nearest Neighbors"
      ],
      "metadata": {
        "id": "bKbHMw1QI2Rw"
      }
    },
    {
      "cell_type": "code",
      "source": [
        "def upsampling_nn(img, target_shape):\n",
        "    h, w = img.shape\n",
        "    target_h, target_w = target_shape\n",
        "    out = np.zeros((target_h, target_w))\n",
        "\n",
        "    for i in range(target_h):\n",
        "        for j in range(target_w):\n",
        "            # find smallest neighbor\n",
        "            orig_i = int(i * h / target_h)\n",
        "            orig_j = int(j * w / target_w)\n",
        "\n",
        "            out[i, j] = img[orig_i, orig_j]\n",
        "    return out"
      ],
      "metadata": {
        "id": "LyvadCQ-FYgu"
      },
      "execution_count": 33,
      "outputs": []
    },
    {
      "cell_type": "code",
      "source": [
        "img = np.array([\n",
        "    [2, 6, 8],\n",
        "    [1, 3, 7],\n",
        "    [4, 5, 9]\n",
        "])\n",
        "\n",
        "print(upsampling_nn(img, (5,5)))"
      ],
      "metadata": {
        "colab": {
          "base_uri": "https://localhost:8080/"
        },
        "id": "5JpSKPdZJQWK",
        "outputId": "00962d6b-1d60-4903-a88a-e7523765beb6"
      },
      "execution_count": 37,
      "outputs": [
        {
          "output_type": "stream",
          "name": "stdout",
          "text": [
            "[[2. 2. 6. 6. 8.]\n",
            " [2. 2. 6. 6. 8.]\n",
            " [1. 1. 3. 3. 7.]\n",
            " [1. 1. 3. 3. 7.]\n",
            " [4. 4. 5. 5. 9.]]\n"
          ]
        }
      ]
    },
    {
      "cell_type": "markdown",
      "source": [
        "## Bilinear"
      ],
      "metadata": {
        "id": "ERAkaFvSMY4Z"
      }
    },
    {
      "cell_type": "code",
      "source": [
        "def upsampling_bl(img, target_shape):\n",
        "    h, w = img.shape\n",
        "    new_h, new_w = target_shape\n",
        "    out = np.zeros((new_h, new_w))\n",
        "\n",
        "    for i in range(new_h):\n",
        "        for j in range(new_w):\n",
        "            y = i * (h - 1) / (new_h - 1)\n",
        "            x = j * (w - 1) / (new_w - 1)\n",
        "\n",
        "            y0 = int(np.floor(y))\n",
        "            x0 = int(np.floor(x))\n",
        "            y1 = min(y0 + 1, h - 1)\n",
        "            x1 = min(x0 + 1, w - 1)\n",
        "\n",
        "            dy = y - y0\n",
        "            dx = x - x0\n",
        "\n",
        "            top = round((1 - dx) * img[y0, x0] + dx * img[y0, x1])\n",
        "            bottom = round((1 - dx) * img[y1, x0] + dx * img[y1, x1])\n",
        "            value = round((1 - dy) * top + dy * bottom)\n",
        "\n",
        "            out[i, j] = value\n",
        "\n",
        "    return out"
      ],
      "metadata": {
        "id": "LdDuH-LQJeYK"
      },
      "execution_count": 46,
      "outputs": []
    },
    {
      "cell_type": "code",
      "source": [
        "img = np.array([\n",
        "    [2, 6, 8],\n",
        "    [1, 3, 7],\n",
        "    [4, 5, 9]\n",
        "])\n",
        "\n",
        "print(upsampling_bl(img, (5,5)))"
      ],
      "metadata": {
        "colab": {
          "base_uri": "https://localhost:8080/"
        },
        "id": "drFGzC_1NeMV",
        "outputId": "c9849bfe-0175-4f39-8072-e987b9753c61"
      },
      "execution_count": 47,
      "outputs": [
        {
          "output_type": "stream",
          "name": "stdout",
          "text": [
            "[[2. 4. 6. 7. 8.]\n",
            " [2. 3. 4. 6. 8.]\n",
            " [1. 2. 3. 5. 7.]\n",
            " [2. 3. 4. 6. 8.]\n",
            " [4. 4. 5. 7. 9.]]\n"
          ]
        }
      ]
    },
    {
      "cell_type": "markdown",
      "source": [
        "## Bicubic"
      ],
      "metadata": {
        "id": "lTZ-nluWOHyQ"
      }
    },
    {
      "cell_type": "code",
      "source": [
        "def cubic_weight(t):\n",
        "    t = abs(t)\n",
        "    if t <= 1:\n",
        "        return (1.5 * t - 2.5) * t * t + 1\n",
        "    elif t < 2:\n",
        "        return ((-0.5 * t + 2.5) * t - 4) * t + 2\n",
        "    else:\n",
        "        return 0"
      ],
      "metadata": {
        "id": "xmnByG_qO83Q"
      },
      "execution_count": 48,
      "outputs": []
    },
    {
      "cell_type": "code",
      "source": [
        "def upsampling_bc(img, target_shape):\n",
        "    h, w = img.shape\n",
        "    new_h, new_w = target_shape\n",
        "    out = np.zeros((new_h, new_w))\n",
        "\n",
        "    for i in range(new_h):\n",
        "        for j in range(new_w):\n",
        "            y = i * h / new_h\n",
        "            x = j * w / new_w\n",
        "\n",
        "            y0 = int(np.floor(y))\n",
        "            x0 = int(np.floor(x))\n",
        "\n",
        "            value = 0\n",
        "            total_weight = 0\n",
        "\n",
        "            for m in range(-1, 3):\n",
        "                for n in range(-1, 3):\n",
        "                    yy = min(max(y0 + m, 0), h - 1)\n",
        "                    xx = min(max(x0 + n, 0), w - 1)\n",
        "\n",
        "                    wy = cubic_weight(y - (y0 + m))\n",
        "                    wx = cubic_weight(x - (x0 + n))\n",
        "                    wght = wy * wx\n",
        "\n",
        "                    value += img[yy, xx] * wght\n",
        "                    total_weight += wght\n",
        "\n",
        "            out[i, j] = round(value / total_weight) if total_weight != 0 else 0\n",
        "\n",
        "    return out"
      ],
      "metadata": {
        "id": "c-e3z6rmOKGS"
      },
      "execution_count": 53,
      "outputs": []
    },
    {
      "cell_type": "code",
      "source": [
        "img = np.array([\n",
        "    [2, 6, 8],\n",
        "    [1, 3, 7],\n",
        "    [4, 5, 9]\n",
        "])\n",
        "\n",
        "print(upsampling_bc(img, (5,5)))"
      ],
      "metadata": {
        "colab": {
          "base_uri": "https://localhost:8080/"
        },
        "id": "BTr4WDGQO_2R",
        "outputId": "cfb3c11a-2e85-4c93-a7b2-4c33c8f3eb5e"
      },
      "execution_count": 54,
      "outputs": [
        {
          "output_type": "stream",
          "name": "stdout",
          "text": [
            "[[2. 4. 7. 8. 8.]\n",
            " [1. 3. 5. 7. 7.]\n",
            " [1. 2. 4. 7. 8.]\n",
            " [4. 4. 5. 8. 9.]\n",
            " [4. 5. 6. 9. 9.]]\n"
          ]
        }
      ]
    }
  ]
}